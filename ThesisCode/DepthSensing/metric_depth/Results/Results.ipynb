{
 "cells": [
  {
   "cell_type": "code",
   "execution_count": 48,
   "metadata": {},
   "outputs": [
    {
     "data": {
      "text/html": [
       "<div>\n",
       "<style scoped>\n",
       "    .dataframe tbody tr th:only-of-type {\n",
       "        vertical-align: middle;\n",
       "    }\n",
       "\n",
       "    .dataframe tbody tr th {\n",
       "        vertical-align: top;\n",
       "    }\n",
       "\n",
       "    .dataframe thead th {\n",
       "        text-align: right;\n",
       "    }\n",
       "</style>\n",
       "<table border=\"1\" class=\"dataframe\">\n",
       "  <thead>\n",
       "    <tr style=\"text-align: right;\">\n",
       "      <th></th>\n",
       "      <th>image_name</th>\n",
       "      <th>true_size</th>\n",
       "      <th>estimated_size</th>\n",
       "    </tr>\n",
       "  </thead>\n",
       "  <tbody>\n",
       "    <tr>\n",
       "      <th>0</th>\n",
       "      <td>./my_test/input\\90\\IMG_5149.jpg</td>\n",
       "      <td>90</td>\n",
       "      <td>241.884758</td>\n",
       "    </tr>\n",
       "    <tr>\n",
       "      <th>1</th>\n",
       "      <td>./my_test/input\\90\\IMG_5151.jpg</td>\n",
       "      <td>90</td>\n",
       "      <td>239.142839</td>\n",
       "    </tr>\n",
       "    <tr>\n",
       "      <th>2</th>\n",
       "      <td>./my_test/input\\90\\IMG_5152.jpg</td>\n",
       "      <td>90</td>\n",
       "      <td>298.333239</td>\n",
       "    </tr>\n",
       "    <tr>\n",
       "      <th>3</th>\n",
       "      <td>./my_test/input\\90\\IMG_5154.jpg</td>\n",
       "      <td>90</td>\n",
       "      <td>206.479624</td>\n",
       "    </tr>\n",
       "    <tr>\n",
       "      <th>4</th>\n",
       "      <td>./my_test/input\\90\\IMG_5161.jpg</td>\n",
       "      <td>90</td>\n",
       "      <td>223.857287</td>\n",
       "    </tr>\n",
       "    <tr>\n",
       "      <th>...</th>\n",
       "      <td>...</td>\n",
       "      <td>...</td>\n",
       "      <td>...</td>\n",
       "    </tr>\n",
       "    <tr>\n",
       "      <th>87</th>\n",
       "      <td>./my_test/input\\360\\IMG_5140.jpeg</td>\n",
       "      <td>360</td>\n",
       "      <td>837.290047</td>\n",
       "    </tr>\n",
       "    <tr>\n",
       "      <th>88</th>\n",
       "      <td>./my_test/input\\360\\IMG_5141.jpeg</td>\n",
       "      <td>360</td>\n",
       "      <td>656.848522</td>\n",
       "    </tr>\n",
       "    <tr>\n",
       "      <th>89</th>\n",
       "      <td>./my_test/input\\360\\IMG_5143.jpeg</td>\n",
       "      <td>360</td>\n",
       "      <td>814.588030</td>\n",
       "    </tr>\n",
       "    <tr>\n",
       "      <th>90</th>\n",
       "      <td>./my_test/input\\360\\IMG_5144.jpeg</td>\n",
       "      <td>360</td>\n",
       "      <td>888.975513</td>\n",
       "    </tr>\n",
       "    <tr>\n",
       "      <th>91</th>\n",
       "      <td>./my_test/input\\360\\IMG_5145.jpeg</td>\n",
       "      <td>360</td>\n",
       "      <td>816.852500</td>\n",
       "    </tr>\n",
       "  </tbody>\n",
       "</table>\n",
       "<p>92 rows × 3 columns</p>\n",
       "</div>"
      ],
      "text/plain": [
       "                           image_name  true_size  estimated_size\n",
       "0     ./my_test/input\\90\\IMG_5149.jpg         90      241.884758\n",
       "1     ./my_test/input\\90\\IMG_5151.jpg         90      239.142839\n",
       "2     ./my_test/input\\90\\IMG_5152.jpg         90      298.333239\n",
       "3     ./my_test/input\\90\\IMG_5154.jpg         90      206.479624\n",
       "4     ./my_test/input\\90\\IMG_5161.jpg         90      223.857287\n",
       "..                                ...        ...             ...\n",
       "87  ./my_test/input\\360\\IMG_5140.jpeg        360      837.290047\n",
       "88  ./my_test/input\\360\\IMG_5141.jpeg        360      656.848522\n",
       "89  ./my_test/input\\360\\IMG_5143.jpeg        360      814.588030\n",
       "90  ./my_test/input\\360\\IMG_5144.jpeg        360      888.975513\n",
       "91  ./my_test/input\\360\\IMG_5145.jpeg        360      816.852500\n",
       "\n",
       "[92 rows x 3 columns]"
      ]
     },
     "execution_count": 48,
     "metadata": {},
     "output_type": "execute_result"
    }
   ],
   "source": [
    "import seaborn as sns\n",
    "import matplotlib.pyplot as plt\n",
    "import numpy as np\n",
    "\n",
    "import pandas as pd\n",
    "import os\n",
    "\n",
    "# creating a data frame\n",
    "df = pd.read_table(\"C:/Users/Kevin/Desktop/Thesis/ThesisCode/DepthSensing/metric_depth/image_sizes.csv\", delimiter =\",\")\n",
    "\n",
    "df['true_size'] = df['image_name'].apply(lambda x: int(os.path.basename(os.path.dirname(x))))\n",
    "\n",
    "df['estimated_size'] = df['estimated_size'].apply(lambda x: x * 100)\n",
    "df"
   ]
  },
  {
   "cell_type": "code",
   "execution_count": 49,
   "metadata": {},
   "outputs": [
    {
     "data": {
      "text/plain": [
       "true_size\n",
       "150    27\n",
       "240    21\n",
       "90     10\n",
       "120    10\n",
       "175     6\n",
       "210     6\n",
       "360     5\n",
       "290     3\n",
       "115     2\n",
       "160     2\n",
       "Name: count, dtype: int64"
      ]
     },
     "execution_count": 49,
     "metadata": {},
     "output_type": "execute_result"
    }
   ],
   "source": [
    "# Assuming df is your DataFrame containing the data\n",
    "counts_by_true_size = df['true_size'].value_counts()\n",
    "counts_by_true_size"
   ]
  },
  {
   "cell_type": "code",
   "execution_count": 59,
   "metadata": {},
   "outputs": [
    {
     "data": {
      "image/png": "[encoded data removed]",
      "text/plain": [
       "<Figure size 640x480 with 1 Axes>"
      ]
     },
     "metadata": {},
     "output_type": "display_data"
    },
    {
     "data": {
      "text/plain": [
       "true_size\n",
       "150    27\n",
       "240    21\n",
       "90     10\n",
       "120    10\n",
       "175     6\n",
       "210     6\n",
       "360     5\n",
       "290     3\n",
       "115     2\n",
       "160     2\n",
       "Name: count, dtype: int64"
      ]
     },
     "execution_count": 59,
     "metadata": {},
     "output_type": "execute_result"
    }
   ],
   "source": [
    "import matplotlib.pyplot as plt\n",
    "\n",
    "# Assuming counts_by_true_size contains the counts of each unique value in the 'true_size' column\n",
    "counts_by_true_size = df['true_size'].value_counts()\n",
    "\n",
    "# Plotting the counts using a bar plot\n",
    "plt.bar(counts_by_true_size.index, counts_by_true_size.values)\n",
    "\n",
    "# Adding labels and title\n",
    "plt.xlabel('True Size')\n",
    "plt.ylabel('Count')\n",
    "plt.title('Count of Entries by True Size')\n",
    "\n",
    "folder_sizes = [90, 115, 120, 150,160, 175, 210, 240, 290, 360]\n",
    "width = 0.8\n",
    "\n",
    "\n",
    "indices = np.arange(len(folder_sizes))\n",
    "\n",
    "plt.xticks(indices, \n",
    "           [f'{folder_sizes[i]}'.format(i) for i in range(len(folder_sizes))] )\n",
    "\n",
    "\n",
    "# Show plot\n",
    "plt.show()\n",
    "counts_by_true_size\n"
   ]
  },
  {
   "cell_type": "code",
   "execution_count": 51,
   "metadata": {},
   "outputs": [
    {
     "name": "stdout",
     "output_type": "stream",
     "text": [
      "2.506900162645096\n"
     ]
    },
    {
     "data": {
      "text/html": [
       "<div>\n",
       "<style scoped>\n",
       "    .dataframe tbody tr th:only-of-type {\n",
       "        vertical-align: middle;\n",
       "    }\n",
       "\n",
       "    .dataframe tbody tr th {\n",
       "        vertical-align: top;\n",
       "    }\n",
       "\n",
       "    .dataframe thead th {\n",
       "        text-align: right;\n",
       "    }\n",
       "</style>\n",
       "<table border=\"1\" class=\"dataframe\">\n",
       "  <thead>\n",
       "    <tr style=\"text-align: right;\">\n",
       "      <th></th>\n",
       "      <th>image_name</th>\n",
       "      <th>true_size</th>\n",
       "      <th>estimated_size</th>\n",
       "      <th>size_ratio</th>\n",
       "      <th>recalculated_sizes</th>\n",
       "    </tr>\n",
       "  </thead>\n",
       "  <tbody>\n",
       "    <tr>\n",
       "      <th>0</th>\n",
       "      <td>./my_test/input\\90\\IMG_5149.jpg</td>\n",
       "      <td>90</td>\n",
       "      <td>241.884758</td>\n",
       "      <td>2.687608</td>\n",
       "      <td>96.487591</td>\n",
       "    </tr>\n",
       "    <tr>\n",
       "      <th>1</th>\n",
       "      <td>./my_test/input\\90\\IMG_5151.jpg</td>\n",
       "      <td>90</td>\n",
       "      <td>239.142839</td>\n",
       "      <td>2.657143</td>\n",
       "      <td>95.393843</td>\n",
       "    </tr>\n",
       "    <tr>\n",
       "      <th>2</th>\n",
       "      <td>./my_test/input\\90\\IMG_5152.jpg</td>\n",
       "      <td>90</td>\n",
       "      <td>298.333239</td>\n",
       "      <td>3.314814</td>\n",
       "      <td>119.004835</td>\n",
       "    </tr>\n",
       "    <tr>\n",
       "      <th>3</th>\n",
       "      <td>./my_test/input\\90\\IMG_5154.jpg</td>\n",
       "      <td>90</td>\n",
       "      <td>206.479624</td>\n",
       "      <td>2.294218</td>\n",
       "      <td>82.364518</td>\n",
       "    </tr>\n",
       "    <tr>\n",
       "      <th>4</th>\n",
       "      <td>./my_test/input\\90\\IMG_5161.jpg</td>\n",
       "      <td>90</td>\n",
       "      <td>223.857287</td>\n",
       "      <td>2.487303</td>\n",
       "      <td>89.296451</td>\n",
       "    </tr>\n",
       "    <tr>\n",
       "      <th>...</th>\n",
       "      <td>...</td>\n",
       "      <td>...</td>\n",
       "      <td>...</td>\n",
       "      <td>...</td>\n",
       "      <td>...</td>\n",
       "    </tr>\n",
       "    <tr>\n",
       "      <th>87</th>\n",
       "      <td>./my_test/input\\360\\IMG_5140.jpeg</td>\n",
       "      <td>360</td>\n",
       "      <td>837.290047</td>\n",
       "      <td>2.325806</td>\n",
       "      <td>333.994173</td>\n",
       "    </tr>\n",
       "    <tr>\n",
       "      <th>88</th>\n",
       "      <td>./my_test/input\\360\\IMG_5141.jpeg</td>\n",
       "      <td>360</td>\n",
       "      <td>656.848522</td>\n",
       "      <td>1.824579</td>\n",
       "      <td>262.016227</td>\n",
       "    </tr>\n",
       "    <tr>\n",
       "      <th>89</th>\n",
       "      <td>./my_test/input\\360\\IMG_5143.jpeg</td>\n",
       "      <td>360</td>\n",
       "      <td>814.588030</td>\n",
       "      <td>2.262745</td>\n",
       "      <td>324.938361</td>\n",
       "    </tr>\n",
       "    <tr>\n",
       "      <th>90</th>\n",
       "      <td>./my_test/input\\360\\IMG_5144.jpeg</td>\n",
       "      <td>360</td>\n",
       "      <td>888.975513</td>\n",
       "      <td>2.469376</td>\n",
       "      <td>354.611455</td>\n",
       "    </tr>\n",
       "    <tr>\n",
       "      <th>91</th>\n",
       "      <td>./my_test/input\\360\\IMG_5145.jpeg</td>\n",
       "      <td>360</td>\n",
       "      <td>816.852500</td>\n",
       "      <td>2.269035</td>\n",
       "      <td>325.841656</td>\n",
       "    </tr>\n",
       "  </tbody>\n",
       "</table>\n",
       "<p>92 rows × 5 columns</p>\n",
       "</div>"
      ],
      "text/plain": [
       "                           image_name  true_size  estimated_size  size_ratio  \\\n",
       "0     ./my_test/input\\90\\IMG_5149.jpg         90      241.884758    2.687608   \n",
       "1     ./my_test/input\\90\\IMG_5151.jpg         90      239.142839    2.657143   \n",
       "2     ./my_test/input\\90\\IMG_5152.jpg         90      298.333239    3.314814   \n",
       "3     ./my_test/input\\90\\IMG_5154.jpg         90      206.479624    2.294218   \n",
       "4     ./my_test/input\\90\\IMG_5161.jpg         90      223.857287    2.487303   \n",
       "..                                ...        ...             ...         ...   \n",
       "87  ./my_test/input\\360\\IMG_5140.jpeg        360      837.290047    2.325806   \n",
       "88  ./my_test/input\\360\\IMG_5141.jpeg        360      656.848522    1.824579   \n",
       "89  ./my_test/input\\360\\IMG_5143.jpeg        360      814.588030    2.262745   \n",
       "90  ./my_test/input\\360\\IMG_5144.jpeg        360      888.975513    2.469376   \n",
       "91  ./my_test/input\\360\\IMG_5145.jpeg        360      816.852500    2.269035   \n",
       "\n",
       "    recalculated_sizes  \n",
       "0            96.487591  \n",
       "1            95.393843  \n",
       "2           119.004835  \n",
       "3            82.364518  \n",
       "4            89.296451  \n",
       "..                 ...  \n",
       "87          333.994173  \n",
       "88          262.016227  \n",
       "89          324.938361  \n",
       "90          354.611455  \n",
       "91          325.841656  \n",
       "\n",
       "[92 rows x 5 columns]"
      ]
     },
     "execution_count": 51,
     "metadata": {},
     "output_type": "execute_result"
    }
   ],
   "source": [
    "df['size_ratio'] = df['estimated_size'] / df['true_size']\n",
    "df['recalculated_sizes'] = df['estimated_size'] / df['size_ratio'].mean()\n",
    "\n",
    "print(df['size_ratio'].mean())\n",
    "\n",
    "df"
   ]
  },
  {
   "cell_type": "code",
   "execution_count": 52,
   "metadata": {},
   "outputs": [
    {
     "data": {
      "image/png": "[encoded data removed]",
      "text/plain": [
       "<Figure size 640x480 with 1 Axes>"
      ]
     },
     "metadata": {},
     "output_type": "display_data"
    }
   ],
   "source": [
    "# Group by true_size and calculate mean size_ratio\n",
    "mean_size_ratio_by_true_size = df.groupby('true_size')['estimated_size'].mean()\n",
    "\n",
    "folder_sizes = [90, 115, 120, 150,160, 175, 210, 240, 290, 360]\n",
    "width = 0.8\n",
    "\n",
    "\n",
    "indices = np.arange(len(folder_sizes))\n",
    "\n",
    "plt.bar(indices, mean_size_ratio_by_true_size, \n",
    "        width=width, color='r', label='Estimated Sizes')\n",
    "\n",
    "plt.bar(indices, folder_sizes, width=0.5 * width, \n",
    "        color='b', label='True Sizes')\n",
    "\n",
    "plt.xticks(indices, \n",
    "           [f'{folder_sizes[i]}'.format(i) for i in range(len(folder_sizes))] )\n",
    "\n",
    "# Legend for the X axis\n",
    "plt.xlabel('True size (cm)')\n",
    "\n",
    "# Legend for the Y axis\n",
    "plt.ylabel('Sidewalk size (cm)')\n",
    "\n",
    "plt.legend()\n",
    "plt.show()"
   ]
  },
  {
   "cell_type": "code",
   "execution_count": 58,
   "metadata": {},
   "outputs": [
    {
     "data": {
      "text/plain": [
       "true_size\n",
       "90      94.115922\n",
       "115    160.126922\n",
       "120    114.890120\n",
       "150    149.719785\n",
       "160    183.133989\n",
       "175    197.203900\n",
       "210    188.640400\n",
       "240    241.247024\n",
       "290    216.194133\n",
       "360    320.280374\n",
       "Name: recalculated_sizes, dtype: float64"
      ]
     },
     "execution_count": 58,
     "metadata": {},
     "output_type": "execute_result"
    }
   ],
   "source": [
    "std_by_true_size = df.groupby('true_size')['recalculated_sizes'].std()\n",
    "\n",
    "mean_size_ratio_by_true_size\n",
    "\n",
    "mean_recalc_size_ = df.groupby('true_size')['recalculated_sizes'].mean()\n",
    "mean_recalc_size_\n",
    "\n",
    "# tr_s / mean_size / std_dev / "
   ]
  },
  {
   "cell_type": "code",
   "execution_count": 54,
   "metadata": {},
   "outputs": [
    {
     "name": "stderr",
     "output_type": "stream",
     "text": [
      "C:\\Users\\Kevin\\AppData\\Local\\Temp\\ipykernel_7444\\1408567209.py:5: FutureWarning: \n",
      "\n",
      "Passing `palette` without assigning `hue` is deprecated and will be removed in v0.14.0. Assign the `x` variable to `hue` and set `legend=False` for the same effect.\n",
      "\n",
      "  sns.boxplot(x='true_size', y='recalculated_sizes', data=df, palette='Set2')\n"
     ]
    },
    {
     "data": {
      "image/png": "[encoded data removed]",
      "text/plain": [
       "<Figure size 1000x600 with 1 Axes>"
      ]
     },
     "metadata": {},
     "output_type": "display_data"
    }
   ],
   "source": [
    "# Assuming you have a DataFrame df with columns 'true_size' and 'recalculated_sizes'\n",
    "\n",
    "# Plot\n",
    "plt.figure(figsize=(10, 6))\n",
    "sns.boxplot(x='true_size', y='recalculated_sizes', data=df, palette='Set2')\n",
    "plt.xlabel('True sidewalk size (cm)')\n",
    "plt.ylabel('Estimated sidewalk size (cm)')\n",
    "plt.grid(axis='y', linestyle='--', alpha=0.7)\n",
    "plt.xticks(rotation=45)\n",
    "plt.show()"
   ]
  }
 ],
 "metadata": {
  "kernelspec": {
   "display_name": "base",
   "language": "python",
   "name": "python3"
  },
  "language_info": {
   "codemirror_mode": {
    "name": "ipython",
    "version": 3
   },
   "file_extension": ".py",
   "mimetype": "text/x-python",
   "name": "python",
   "nbconvert_exporter": "python",
   "pygments_lexer": "ipython3",
   "version": "3.11.5"
  }
 },
 "nbformat": 4,
 "nbformat_minor": 2
}
