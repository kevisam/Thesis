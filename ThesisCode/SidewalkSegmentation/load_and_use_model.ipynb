{
 "cells": [
  {
   "cell_type": "code",
   "execution_count": 1,
   "metadata": {},
   "outputs": [
    {
     "name": "stderr",
     "output_type": "stream",
     "text": [
      "/opt/homebrew/lib/python3.10/site-packages/tqdm/auto.py:21: TqdmWarning: IProgress not found. Please update jupyter and ipywidgets. See https://ipywidgets.readthedocs.io/en/stable/user_install.html\n",
      "  from .autonotebook import tqdm as notebook_tqdm\n"
     ]
    }
   ],
   "source": [
    "import torch\n",
    "import numpy as np\n",
    "import matplotlib.pyplot as plt\n",
    "import cv2 as cv"
   ]
  },
  {
   "cell_type": "code",
   "execution_count": 2,
   "metadata": {},
   "outputs": [
    {
     "name": "stderr",
     "output_type": "stream",
     "text": [
      "Could not find image processor class in the image processor config or the model config. Loading based on pattern matching with the model's feature extractor configuration.\n",
      "/opt/homebrew/lib/python3.10/site-packages/transformers/models/segformer/image_processing_segformer.py:102: FutureWarning: The `reduce_labels` parameter is deprecated and will be removed in a future version. Please use `do_reduce_labels` instead.\n",
      "  warnings.warn(\n"
     ]
    },
    {
     "data": {
      "text/plain": [
       "[35, 128, 128]"
      ]
     },
     "execution_count": 2,
     "metadata": {},
     "output_type": "execute_result"
    }
   ],
   "source": [
    "# Load model directly\n",
    "from transformers import AutoImageProcessor, SegformerForSemanticSegmentation\n",
    "from PIL import Image\n",
    "\n",
    "processor = AutoImageProcessor.from_pretrained(\"nickmuchi/segformer-b4-finetuned-segments-sidewalk\")\n",
    "model = SegformerForSemanticSegmentation.from_pretrained(\"nickmuchi/segformer-b4-finetuned-segments-sidewalk\")\n",
    "\n",
    "image_path = '/Users/kevinsam/Desktop/Unif/Master/ThesisWheelchair/ThesisProject/ThesisCode/DepthSensing/images/sidewalk2.jpeg'\n",
    "image = Image.open(image_path).convert(\"RGB\")\n",
    "\n",
    "inputs = processor(images=image, return_tensors=\"pt\")\n",
    "outputs = model(**inputs)\n",
    "logits = outputs.logits.squeeze().detach().cpu().numpy()\n",
    "list(logits.shape)"
   ]
  },
  {
   "cell_type": "code",
   "execution_count": 4,
   "metadata": {},
   "outputs": [
    {
     "data": {
      "image/png": "[encoded data removed]",
      "text/plain": [
       "<Figure size 1000x500 with 1 Axes>"
      ]
     },
     "metadata": {},
     "output_type": "display_data"
    }
   ],
   "source": [
    "# Get predicted classes\n",
    "predicted_classes = np.argmax(logits, axis=0)\n",
    "\n",
    "# Get class labels from the model\n",
    "class_labels = model.config.id2label\n",
    "\n",
    "# Define a colormap for visualization\n",
    "cmap = plt.cm.get_cmap('binary_r', len(class_labels))\n",
    "\n",
    "# Filter out pixels corresponding to flat sidewalk class\n",
    "flat_sidewalk_class = 2  # Assuming flat sidewalk class is labeled as 2\n",
    "flat_sidewalk_mask = (predicted_classes == flat_sidewalk_class)\n",
    "\n",
    "# Create a figure and axes for the plot\n",
    "plt.figure(figsize=(10, 5))\n",
    "\n",
    "# Display only the flat sidewalk class in the segmentation mask\n",
    "masked_predicted_classes = np.where(flat_sidewalk_mask, 1, 0)  # Invert mask\n",
    "plt.imshow(masked_predicted_classes, cmap='binary_r', interpolation='nearest', vmin=0, vmax=1)  # Use binary colormap for black and white\n",
    "plt.axis('off')\n",
    "\n",
    "plt.savefig('image.png', bbox_inches='tight', pad_inches=0) \n",
    "plt.show()"
   ]
  },
  {
   "cell_type": "code",
   "execution_count": 20,
   "metadata": {},
   "outputs": [
    {
     "name": "stdout",
     "output_type": "stream",
     "text": [
      "(127, 297)\n",
      "(126, 298)\n",
      "(124, 298)\n",
      "(264, 301)\n",
      "(262, 301)\n",
      "(261, 300)\n",
      "(261, 295)\n",
      "(259, 295)\n",
      "(258, 294)\n"
     ]
    },
    {
     "data": {
      "image/png": "[encoded data removed]",
      "text/plain": [
       "<Figure size 800x600 with 1 Axes>"
      ]
     },
     "metadata": {},
     "output_type": "display_data"
    }
   ],
   "source": [
    "# Read the image\n",
    "image = cv.imread('image.png')\n",
    "\n",
    "# Convert the image to grayscale\n",
    "gray_image = cv.cvtColor(image, cv.COLOR_BGR2GRAY)\n",
    "\n",
    "# Apply thresholding to segment the white objects\n",
    "_, thresholded_image = cv.threshold(gray_image, 240, 255, cv.THRESH_BINARY)\n",
    "\n",
    "# Find contours in the thresholded image\n",
    "contours, _ = cv.findContours(thresholded_image, cv.RETR_EXTERNAL, cv.CHAIN_APPROX_SIMPLE)\n",
    "\n",
    "# Find the contour with the largest area\n",
    "largest_contour = max(contours, key=cv.contourArea)\n",
    "\n",
    "# Find the moments of the largest contour\n",
    "M = cv.moments(largest_contour)\n",
    "\n",
    "# Calculate the centroid\n",
    "centroid_x = int(M['m10'] / M['m00'])\n",
    "centroid_y = int(M['m01'] / M['m00'])\n",
    "\n",
    "# Draw a horizontal line across the centroid\n",
    "cv.line(image, (0, centroid_y), (image.shape[1], centroid_y), (0, 255, 0), 2)\n",
    "\n",
    "# Get contour points that intersect with the horizontal line\n",
    "# Define a threshold for the distance from the line\n",
    "threshold_distance = 5\n",
    "\n",
    "# Get contour points that intersect with the horizontal line\n",
    "intersecting_points = []\n",
    "for point in largest_contour:\n",
    "    x, y = point[0]\n",
    "    if abs(y - centroid_y) < threshold_distance:\n",
    "        intersecting_points.append((x, y))\n",
    "\n",
    "# Draw the intersecting points on the image\n",
    "for point in intersecting_points:\n",
    "    print(point)\n",
    "    cv.drawMarker(image, point, color=(255, 0, 0), markerType=cv.MARKER_CROSS, markerSize=10, thickness=2)\n",
    "\n",
    "# Draw the contour on the image\n",
    "cv.drawContours(image, [largest_contour], -1, (0, 0, 255), 2)\n",
    "\n",
    "# Plot the image with the horizontal line, contour, and intersecting points\n",
    "plt.figure(figsize=(8, 6))\n",
    "plt.imshow(cv.cvtColor(image, cv.COLOR_BGR2RGB))\n",
    "plt.title('Image with Horizontal Line, Contour, and Intersecting Points')\n",
    "plt.axis('off')\n",
    "plt.show()"
   ]
  }
 ],
 "metadata": {
  "kernelspec": {
   "display_name": "Python 3",
   "language": "python",
   "name": "python3"
  },
  "language_info": {
   "codemirror_mode": {
    "name": "ipython",
    "version": 3
   },
   "file_extension": ".py",
   "mimetype": "text/x-python",
   "name": "python",
   "nbconvert_exporter": "python",
   "pygments_lexer": "ipython3",
   "version": "3.10.12"
  }
 },
 "nbformat": 4,
 "nbformat_minor": 2
}
